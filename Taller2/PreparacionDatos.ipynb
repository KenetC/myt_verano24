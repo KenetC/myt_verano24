{
 "cells": [
  {
   "cell_type": "markdown",
   "metadata": {
    "id": "Rcm-d8N1bpU2"
   },
   "source": [
    "# Photogate explicado paso a paso\n",
    "\n",
    "## Photogate y MotionDAQ\n",
    "\n",
    "El [*photogate*](https://www.vernier.com/product/photogate/),\n",
    "o fotosensor de barrera,\n",
    "es un sensor que permite medir tiempos de manera muy precisa.\n",
    "Para ello,\n",
    "tiene un emisor de luz infrarroja\n",
    "y un detector de luz.\n",
    "Cuando detecta la luz infrarroja,\n",
    "emite una señal de un dado voltaje.\n",
    "Cuando un objeto atravieza el sensor,\n",
    "bloquea la luz,\n",
    "y el sensor emite otro voltaje.\n",
    "Midiendo el tiempo cuando se produce el cambio de voltaje,\n",
    "podemos saber cuando un objeto pasó por el *photogate*.\n",
    "\n",
    "La señal del *photogate* la podemos digitalizar con el MotionDAQ.\n",
    "Este mide el voltaje que emite el sensor\n",
    "para un conjunto de tiempos discretos.\n",
    "El tiempo $\\Delta t$ entre mediciones se puede controlar,\n",
    "elijiendo la frecuencia de muestreo $f = 1/\\Delta t$.\n",
    "Luego,\n",
    "podemos exportar estas mediciones como un archivo de texto.\n",
    "\n",
    "En este notebook,\n",
    "vamos a ver como podemos cargar\n",
    "y analizar esas mediciones para obtener los tiempos en que se bloqueó o desbloquó el sensor."
   ]
  },
  {
   "cell_type": "markdown",
   "metadata": {
    "id": "B462r2xXbpVR"
   },
   "source": [
    "## Paquetes\n",
    "\n",
    "Importamos los paquetes y funciones que vamos a necesitar:\n",
    "\n",
    "- la función `Path` de `pathlib`,\n",
    "  que nos permite manejar las \"rutas\" o ubicaciones de los archivos.\n",
    "  En particular,\n",
    "  la vamos a usar para encontrar todos los archivos de medición que usemos.\n",
    "- `numpy`, para operar con arrays numéricos\n",
    "- `matplotlib`, para graficar\n",
    "- `pandas`, que solo vamos a usar para leer los archivos.\n",
    "  Es muy usado porque proporciona varias comodidades sobre `numpy`,\n",
    "  pero es confuso de usar al principio."
   ]
  },
  {
   "cell_type": "code",
   "execution_count": 2,
   "metadata": {
    "id": "V2s1Kfw4bpVS"
   },
   "outputs": [],
   "source": [
    "from pathlib import Path\n",
    "import numpy as np\n",
    "import matplotlib.pyplot as plt\n",
    "import pandas as pd"
   ]
  },
  {
   "cell_type": "markdown",
   "metadata": {
    "id": "DYSRfH91bpVY"
   },
   "source": [
    "## Buscando los archivos"
   ]
  },
  {
   "cell_type": "markdown",
   "metadata": {
    "id": "asgjn_OwbpVZ"
   },
   "source": [
    "Buscamos todos los archivos que terminan con `.txt` en la carpeta actual.\n",
    "\n",
    ":::{note}\n",
    "Pueden decargar unos archivos de muestra de acá:\n",
    "- [1cm.txt](https://github.com/maurosilber/python-tutorial/raw/main/book/laboratorio/photogate/1cm.txt)\n",
    "- [2cm.txt](https://github.com/maurosilber/python-tutorial/raw/main/book/laboratorio/photogate/2cm.txt)\n",
    ":::"
   ]
  },
  {
   "cell_type": "markdown",
   "metadata": {},
   "source": [
    "### Para nuestro caso vamos a cargar los datos desde github "
   ]
  },
  {
   "cell_type": "code",
   "execution_count": 10,
   "metadata": {
    "colab": {
     "base_uri": "https://localhost:8080/"
    },
    "id": "cLh5o9lGbpVa",
    "outputId": "8c8980a0-816c-458d-b0cf-04a0474ccf79"
   },
   "outputs": [],
   "source": [
    "url_1='https://raw.githubusercontent.com/KenetC/myt_verano24/main/DatosTaller2/datos1'\n",
    "df = pd.read_csv(\n",
    "    url_1,\n",
    "    skiprows=3,  # que ignore las primeras 3 filas\n",
    "    delimiter=\"\\t\",  # separador Tab\n",
    "    decimal=\",\",  # coma decimal\n",
    ")"
   ]
  },
  {
   "cell_type": "markdown",
   "metadata": {
    "id": "dnYyMACIbpVd"
   },
   "source": [
    "## Cargando datos de un archivo\n",
    "\n",
    "Si abrimos un archivo en un editor de texto (`notepad`),\n",
    "veriamos lo siguiente:"
   ]
  },
  {
   "cell_type": "code",
   "execution_count": null,
   "metadata": {
    "colab": {
     "base_uri": "https://localhost:8080/"
    },
    "id": "CeuZMCtqbpVd",
    "outputId": "bfbd3d8f-ebd6-4fc2-a396-b5de8f827c40"
   },
   "outputs": [
    {
     "name": "stdout",
     "output_type": "stream",
     "text": [
      "date/time: ,20/02/2024,05:09 p.m.\r\n",
      "Run 1\r\n",
      "\r\n",
      "time\t(V)\r\n",
      "0,000000\t4,588166E+0\r\n",
      "0,005000\t4,595705E+0\r\n",
      "0,010000\t4,588166E+0\r\n",
      "0,015000\t4,590679E+0\r\n",
      "0,020000\t4,585653E+0\r\n",
      "0,025000\t4,593192E+0\r\n"
     ]
    }
   ],
   "source": [
    "!head \"datos3.txt\""
   ]
  },
  {
   "cell_type": "markdown",
   "metadata": {
    "id": "T5OJF70BbpVe"
   },
   "source": [
    "Es un archivo de texto,\n",
    "donde las primeras dos filas tienen *metadata*:\n",
    "\n",
    "- la hora a la que se tomó la medición, y\n",
    "- número de corrida.\n",
    "\n",
    "Las siguientes filas tienen los datos\n",
    "agrupados en dos columnas,\n",
    "que estan separadas por \"un espacio\".\n",
    "En programación,\n",
    "hay al menos dos tipos de espacios:\n",
    "\n",
    "- `\" \"`, el espacio común que inserta la barra espaciadora, y\n",
    "- `\"\\t\"`, el espacio que inserta la tecla Tab.\n",
    "\n",
    "En este caso,\n",
    "es el segundo.\n",
    "\n",
    "También,\n",
    "los números usan una coma como separador decimal.\n",
    "\n",
    "Todo esto hay que decirselo a Python,\n",
    "para que sepa como interpretar el archivo."
   ]
  },
  {
   "cell_type": "markdown",
   "metadata": {},
   "source": [
    "### Sale NaN porque puse en la primer fila la long."
   ]
  },
  {
   "cell_type": "code",
   "execution_count": 11,
   "metadata": {
    "colab": {
     "base_uri": "https://localhost:8080/",
     "height": 424
    },
    "id": "krBe35vGbpVf",
    "outputId": "9da7fb87-00a6-4436-87ff-5bdc7b88f5ff"
   },
   "outputs": [
    {
     "data": {
      "text/html": [
       "<div>\n",
       "<style scoped>\n",
       "    .dataframe tbody tr th:only-of-type {\n",
       "        vertical-align: middle;\n",
       "    }\n",
       "\n",
       "    .dataframe tbody tr th {\n",
       "        vertical-align: top;\n",
       "    }\n",
       "\n",
       "    .dataframe thead th {\n",
       "        text-align: right;\n",
       "    }\n",
       "</style>\n",
       "<table border=\"1\" class=\"dataframe\">\n",
       "  <thead>\n",
       "    <tr style=\"text-align: right;\">\n",
       "      <th></th>\n",
       "      <th>time</th>\n",
       "      <th>(V)</th>\n",
       "    </tr>\n",
       "  </thead>\n",
       "  <tbody>\n",
       "    <tr>\n",
       "      <th>0</th>\n",
       "      <td>78.500</td>\n",
       "      <td>NaN</td>\n",
       "    </tr>\n",
       "    <tr>\n",
       "      <th>1</th>\n",
       "      <td>0.000</td>\n",
       "      <td>4.491614</td>\n",
       "    </tr>\n",
       "    <tr>\n",
       "      <th>2</th>\n",
       "      <td>0.005</td>\n",
       "      <td>4.484083</td>\n",
       "    </tr>\n",
       "    <tr>\n",
       "      <th>3</th>\n",
       "      <td>0.010</td>\n",
       "      <td>4.479063</td>\n",
       "    </tr>\n",
       "    <tr>\n",
       "      <th>4</th>\n",
       "      <td>0.015</td>\n",
       "      <td>4.489104</td>\n",
       "    </tr>\n",
       "    <tr>\n",
       "      <th>...</th>\n",
       "      <td>...</td>\n",
       "      <td>...</td>\n",
       "    </tr>\n",
       "    <tr>\n",
       "      <th>4997</th>\n",
       "      <td>24.980</td>\n",
       "      <td>4.484083</td>\n",
       "    </tr>\n",
       "    <tr>\n",
       "      <th>4998</th>\n",
       "      <td>24.985</td>\n",
       "      <td>4.491614</td>\n",
       "    </tr>\n",
       "    <tr>\n",
       "      <th>4999</th>\n",
       "      <td>24.990</td>\n",
       "      <td>4.484083</td>\n",
       "    </tr>\n",
       "    <tr>\n",
       "      <th>5000</th>\n",
       "      <td>24.995</td>\n",
       "      <td>4.484083</td>\n",
       "    </tr>\n",
       "    <tr>\n",
       "      <th>5001</th>\n",
       "      <td>25.000</td>\n",
       "      <td>4.484083</td>\n",
       "    </tr>\n",
       "  </tbody>\n",
       "</table>\n",
       "<p>5002 rows × 2 columns</p>\n",
       "</div>"
      ],
      "text/plain": [
       "        time       (V)\n",
       "0     78.500       NaN\n",
       "1      0.000  4.491614\n",
       "2      0.005  4.484083\n",
       "3      0.010  4.479063\n",
       "4      0.015  4.489104\n",
       "...      ...       ...\n",
       "4997  24.980  4.484083\n",
       "4998  24.985  4.491614\n",
       "4999  24.990  4.484083\n",
       "5000  24.995  4.484083\n",
       "5001  25.000  4.484083\n",
       "\n",
       "[5002 rows x 2 columns]"
      ]
     },
     "execution_count": 11,
     "metadata": {},
     "output_type": "execute_result"
    }
   ],
   "source": [
    "df"
   ]
  },
  {
   "cell_type": "markdown",
   "metadata": {
    "id": "0H_wxqq0bpVf"
   },
   "source": [
    "La variable `df` tiene un `DataFrame` de `pandas`.\n",
    "Podemos extraer el `array` de `numpy` interno con `df.values`:"
   ]
  },
  {
   "cell_type": "code",
   "execution_count": 16,
   "metadata": {
    "colab": {
     "base_uri": "https://localhost:8080/"
    },
    "id": "vrL8WhpcbpVg",
    "outputId": "64b567c3-c35b-487a-be1b-09d40fd3fce7"
   },
   "outputs": [
    {
     "data": {
      "text/plain": [
       "78.5"
      ]
     },
     "execution_count": 16,
     "metadata": {},
     "output_type": "execute_result"
    }
   ],
   "source": [
    "data = df.values\n",
    "L1 = data[0,0] \n",
    "L1"
   ]
  },
  {
   "cell_type": "markdown",
   "metadata": {
    "id": "F0xWq0TqbpVg"
   },
   "source": [
    "Este `array` tiene 996 filas y 2 columnas:"
   ]
  },
  {
   "cell_type": "markdown",
   "metadata": {},
   "source": [
    "### Estos serian nuestros datos sin la long "
   ]
  },
  {
   "cell_type": "code",
   "execution_count": 18,
   "metadata": {
    "colab": {
     "base_uri": "https://localhost:8080/"
    },
    "id": "Nj3rWVAsbpVg",
    "outputId": "dad577f8-b9b8-4c31-e5d3-7afd06e60586"
   },
   "outputs": [],
   "source": [
    "D = data[1:]"
   ]
  },
  {
   "cell_type": "markdown",
   "metadata": {
    "id": "CAnCWkGrbpVg"
   },
   "source": [
    "Para más (o menos) comodidad,\n",
    "podemos separar cada una en una variable:"
   ]
  },
  {
   "cell_type": "code",
   "execution_count": 19,
   "metadata": {
    "colab": {
     "base_uri": "https://localhost:8080/"
    },
    "id": "Ktqnf2XdbpVh",
    "outputId": "7df89ec8-05e6-4c4f-837a-e6a7fa1c6398"
   },
   "outputs": [
    {
     "name": "stdout",
     "output_type": "stream",
     "text": [
      "[4.491614 4.484083 4.479063 ... 4.484083 4.484083 4.484083]\n"
     ]
    }
   ],
   "source": [
    "t = D[:, 0]  # tiempo [s]\n",
    "v = D[:, 1]  # voltaje [V]\n",
    "print(v)"
   ]
  },
  {
   "cell_type": "markdown",
   "metadata": {
    "id": "UC1HLBfCbpVh"
   },
   "source": [
    "## Graficar los datos\n",
    "\n",
    "Es importante visualizar los datos,\n",
    "para asegurarnos de que no haya habido problemas de medición.\n",
    "Grafiquemos estas dos variables:"
   ]
  },
  {
   "cell_type": "code",
   "execution_count": 20,
   "metadata": {
    "colab": {
     "base_uri": "https://localhost:8080/",
     "height": 329
    },
    "id": "_4Du0PrKbpVh",
    "outputId": "69db56b7-4be9-45b2-f6dd-88e527ca9c1c"
   },
   "outputs": [
    {
     "data": {
      "text/plain": [
       "[<matplotlib.lines.Line2D at 0x7b07e97d1cc0>]"
      ]
     },
     "execution_count": 20,
     "metadata": {},
     "output_type": "execute_result"
    },
    {
     "data": {
      "image/png": "[encoded data removed]",
      "text/plain": [
       "<Figure size 600x300 with 1 Axes>"
      ]
     },
     "metadata": {},
     "output_type": "display_data"
    }
   ],
   "source": [
    "plt.figure(figsize=(6, 3))\n",
    "plt.xlabel(\"Tiempo [s]\")\n",
    "plt.ylabel(\"Voltaje [V]\")\n",
    "plt.plot(t, v)"
   ]
  },
  {
   "cell_type": "markdown",
   "metadata": {
    "id": "-rPyAvW8bpVp"
   },
   "source": [
    "Hagamos zoom sobre el primer salto,\n",
    "y graficamos los valores discretos de la señal:"
   ]
  },
  {
   "cell_type": "code",
   "execution_count": 21,
   "metadata": {
    "colab": {
     "base_uri": "https://localhost:8080/",
     "height": 234
    },
    "id": "sWMHxAwKbpVq",
    "outputId": "145675ce-16a1-4986-adf6-07c647af2220"
   },
   "outputs": [
    {
     "data": {
      "image/png": "[encoded data removed]",
      "text/plain": [
       "<Figure size 600x200 with 1 Axes>"
      ]
     },
     "metadata": {},
     "output_type": "display_data"
    }
   ],
   "source": [
    "plt.figure(figsize=(6, 2))\n",
    "plt.xlabel(\"Tiempo [s]\")\n",
    "plt.ylabel(\"Voltaje [V]\")\n",
    "plt.plot(t, v,'r.')\n",
    "plt.plot(t, v,'b')\n",
    "#plt.plot(t, v, marker=\".\", color='r', linestyle=\"--\")\n",
    "plt.xlim(0.12, 0.18)\n",
    "plt.grid()"
   ]
  },
  {
   "cell_type": "markdown",
   "metadata": {
    "id": "UTtLQxAQbpVq"
   },
   "source": [
    "### Preguntas\n",
    "\n",
    "- ¿En qué tiempo se bloqueó el sensor?\n",
    "- ¿Qué error podemos asignarle a ese tiempo?\n",
    "- ¿Cómo podemos encontar \"automaticamente\" ese tiempo?\n",
    "  ¿Qué distingue a esos tiempos de los demás?"
   ]
  },
  {
   "cell_type": "markdown",
   "metadata": {
    "id": "iuf9hq5MbpVq"
   },
   "source": [
    "## Calcular diferencias de voltaje\n",
    "\n",
    "Para encontrar el cambio de voltaje,\n",
    "podemos calcular la diferencia entre un punto $i$ y el siguiente $i+1$.\n",
    "`numpy` incluye una función para esto: `np.diff`."
   ]
  },
  {
   "cell_type": "code",
   "execution_count": 22,
   "metadata": {
    "id": "vMghq3Z5bpVu"
   },
   "outputs": [],
   "source": [
    "dif_de_v = np.diff(v)"
   ]
  },
  {
   "cell_type": "markdown",
   "metadata": {
    "id": "DTKVpEDNbpVv"
   },
   "source": [
    "Este vector tiene un valor menos el original,\n",
    "ya que no puede calcular la diferencia del último con el siguiente\n",
    "(¡ya no hay siguiente!)."
   ]
  },
  {
   "cell_type": "code",
   "execution_count": 23,
   "metadata": {
    "colab": {
     "base_uri": "https://localhost:8080/"
    },
    "id": "QM9Jjer9bpVw",
    "outputId": "61945e23-803a-4142-a78c-b70ada0f2134"
   },
   "outputs": [
    {
     "data": {
      "text/plain": [
       "5001"
      ]
     },
     "execution_count": 23,
     "metadata": {},
     "output_type": "execute_result"
    }
   ],
   "source": [
    "np.size(v)"
   ]
  },
  {
   "cell_type": "code",
   "execution_count": 24,
   "metadata": {
    "colab": {
     "base_uri": "https://localhost:8080/"
    },
    "id": "iIL3Fn7lbpVw",
    "outputId": "3f95740b-050c-4631-fef0-f37a251562d7"
   },
   "outputs": [
    {
     "data": {
      "text/plain": [
       "5000"
      ]
     },
     "execution_count": 24,
     "metadata": {},
     "output_type": "execute_result"
    }
   ],
   "source": [
    "np.size(dif_de_v)"
   ]
  },
  {
   "cell_type": "markdown",
   "metadata": {
    "id": "f1NPUn5CbpVw"
   },
   "source": [
    "Para graficarlo,\n",
    "vamos a ignorar el tiempo,\n",
    "y dejar que grafique contra el número de indice del array:"
   ]
  },
  {
   "cell_type": "code",
   "execution_count": 25,
   "metadata": {
    "colab": {
     "base_uri": "https://localhost:8080/",
     "height": 252
    },
    "id": "YAXNnus7bpVw",
    "outputId": "d1e2fd05-30d2-44dd-9ac1-5fbf796cbbf6"
   },
   "outputs": [
    {
     "data": {
      "text/plain": [
       "[<matplotlib.lines.Line2D at 0x7b07e8d2ad10>]"
      ]
     },
     "execution_count": 25,
     "metadata": {},
     "output_type": "execute_result"
    },
    {
     "data": {
      "image/png": "[encoded data removed]",
      "text/plain": [
       "<Figure size 600x200 with 1 Axes>"
      ]
     },
     "metadata": {},
     "output_type": "display_data"
    }
   ],
   "source": [
    "plt.figure(figsize=(6, 2))\n",
    "plt.xlabel(\"Indice del array\")\n",
    "plt.ylabel(\"Dif. de voltaje [V]\")\n",
    "plt.plot(dif_de_v, marker=\".\", linestyle=\"--\")"
   ]
  },
  {
   "cell_type": "markdown",
   "metadata": {
    "id": "VKBDZIc2bpVw"
   },
   "source": [
    "Si hacemos zoom al primer salto,\n",
    "y superponemos la señal original,\n",
    "podemos ver que da (practicamente) 0 en todos lados,\n",
    "menos en los cambios de voltaje:"
   ]
  },
  {
   "cell_type": "code",
   "execution_count": 26,
   "metadata": {
    "colab": {
     "base_uri": "https://localhost:8080/",
     "height": 252
    },
    "id": "mDgKlssCbpVx",
    "outputId": "b804cd80-2fd9-4e37-bd1d-dad6e3c7db64"
   },
   "outputs": [
    {
     "data": {
      "text/plain": [
       "(0.0, 40.0)"
      ]
     },
     "execution_count": 26,
     "metadata": {},
     "output_type": "execute_result"
    },
    {
     "data": {
      "image/png": "[encoded data removed]",
      "text/plain": [
       "<Figure size 600x200 with 1 Axes>"
      ]
     },
     "metadata": {},
     "output_type": "display_data"
    }
   ],
   "source": [
    "plt.figure(figsize=(6, 2))\n",
    "plt.xlabel(\"Indice del array\")\n",
    "plt.ylabel(\"Voltaje [V]\")\n",
    "plt.plot(v, label=\"Voltaje\", marker=\".\", linestyle=\"--\")\n",
    "plt.plot(dif_de_v, label=\"Dif. de voltaje\", marker=\".\", linestyle=\"--\")\n",
    "plt.legend()\n",
    "plt.xlim(0, 40)"
   ]
  },
  {
   "cell_type": "markdown",
   "metadata": {
    "id": "1M9092bobpVx"
   },
   "source": [
    "Pero ojo,\n",
    "no es exactamente 0,\n",
    "ya que el voltaje fluctua levemente:"
   ]
  },
  {
   "cell_type": "code",
   "execution_count": null,
   "metadata": {
    "colab": {
     "base_uri": "https://localhost:8080/"
    },
    "id": "pPNqRpVFbpVx",
    "outputId": "53bf8174-6eb7-4f83-b45b-f6976b99fdc2"
   },
   "outputs": [
    {
     "data": {
      "text/plain": [
       "array([4.588166, 4.595705, 4.588166, 4.590679, 4.585653])"
      ]
     },
     "execution_count": 574,
     "metadata": {},
     "output_type": "execute_result"
    }
   ],
   "source": [
    "v[:5]"
   ]
  },
  {
   "cell_type": "code",
   "execution_count": null,
   "metadata": {
    "colab": {
     "base_uri": "https://localhost:8080/"
    },
    "id": "hRRU_xmobpVx",
    "outputId": "1160b4f0-0223-4016-fcb1-996b9b691277"
   },
   "outputs": [
    {
     "data": {
      "text/plain": [
       "array([ 0.007539, -0.007539,  0.002513, -0.005026,  0.007539])"
      ]
     },
     "execution_count": 575,
     "metadata": {},
     "output_type": "execute_result"
    }
   ],
   "source": [
    "dif_de_v[:5]"
   ]
  },
  {
   "cell_type": "markdown",
   "metadata": {
    "id": "UR9J8PbnbpVx"
   },
   "source": [
    "## Encontrar valores que cumplen cierta condicion\n",
    "\n",
    "Para encontrar los valores dentro de un `array` que cumplen cierta condicion,\n",
    "se pueden hacer lo siguiente:"
   ]
  },
  {
   "cell_type": "code",
   "execution_count": null,
   "metadata": {
    "colab": {
     "base_uri": "https://localhost:8080/"
    },
    "id": "X7s3dcOrbpVy",
    "outputId": "b2ab003c-fbb7-4f76-dfd0-f6e0b5590c28"
   },
   "outputs": [
    {
     "data": {
      "text/plain": [
       "array([False, False,  True,  True, False,  True])"
      ]
     },
     "execution_count": 576,
     "metadata": {},
     "output_type": "execute_result"
    }
   ],
   "source": [
    "y = np.array([0, 0, 5, 5, 0, 5])  # array de ejemplo\n",
    "\n",
    "y > 3"
   ]
  },
  {
   "cell_type": "markdown",
   "metadata": {
    "id": "dsmuC_ZcbpVy"
   },
   "source": [
    "que devuelve un vector de verdaderos (`True`) y falsos (`False`) para cada elemento.\n",
    "\n",
    "Si quieren obtener las posiciones o indices donde se cumplió la condición,\n",
    "es decir, donde están los `True`,\n",
    "pueden hacer así:"
   ]
  },
  {
   "cell_type": "code",
   "execution_count": null,
   "metadata": {
    "colab": {
     "base_uri": "https://localhost:8080/"
    },
    "id": "4gldsKI_bpVy",
    "outputId": "4f33b27d-98b4-48d5-a410-2006f8a4d865"
   },
   "outputs": [
    {
     "data": {
      "text/plain": [
       "(array([2, 3, 5]),)"
      ]
     },
     "execution_count": 577,
     "metadata": {},
     "output_type": "execute_result"
    }
   ],
   "source": [
    "pos = np.nonzero(y > 3)\n",
    "\n",
    "pos"
   ]
  },
  {
   "cell_type": "markdown",
   "metadata": {
    "id": "dqu3MUhabpVy"
   },
   "source": [
    "Si quisieran extraer los valores de `y` que están en esas posiciones:"
   ]
  },
  {
   "cell_type": "code",
   "execution_count": null,
   "metadata": {
    "colab": {
     "base_uri": "https://localhost:8080/"
    },
    "id": "EGFa6-hhbpVy",
    "outputId": "e9f02451-d320-4682-8ed4-e37331db6a99"
   },
   "outputs": [
    {
     "data": {
      "text/plain": [
       "array([5, 5, 5])"
      ]
     },
     "execution_count": 578,
     "metadata": {},
     "output_type": "execute_result"
    }
   ],
   "source": [
    "y[pos]"
   ]
  },
  {
   "cell_type": "markdown",
   "metadata": {
    "id": "MFMLRzr3bpV5"
   },
   "source": [
    "Entonces,\n",
    "en el caso de la señal del fotosesnsor,\n",
    "podemos encontrar los \"saltos\",\n",
    "tanto positivos y negativos,\n",
    "como:"
   ]
  },
  {
   "cell_type": "code",
   "execution_count": 27,
   "metadata": {
    "colab": {
     "base_uri": "https://localhost:8080/"
    },
    "id": "6QOKG6RIbpV5",
    "outputId": "f02e2691-b742-4be7-cae0-9368c4aeda84"
   },
   "outputs": [
    {
     "data": {
      "text/plain": [
       "(array([ 143,  169,  314,  340,  500,  526,  671,  697,  857,  883, 1027,\n",
       "        1054, 1213, 1239, 1384, 1410, 1570, 1596, 1741, 1767, 1926, 1953,\n",
       "        2097, 2124, 2283, 2309, 2454, 2480, 2640, 2666, 2810, 2837, 2996,\n",
       "        3023, 3167, 3194, 3353, 3380, 3523, 3550, 3709, 3736, 3880, 3907,\n",
       "        4066, 4093, 4237, 4264, 4423, 4450, 4593, 4620, 4779, 4806, 4950,\n",
       "        4977]),)"
      ]
     },
     "execution_count": 27,
     "metadata": {},
     "output_type": "execute_result"
    }
   ],
   "source": [
    "pos = np.nonzero(np.abs(dif_de_v) > 2.5)\n",
    "\n",
    "pos"
   ]
  },
  {
   "cell_type": "markdown",
   "metadata": {
    "id": "22TEk3bfbpV6"
   },
   "source": [
    "Peor no nos interesa obtener el valor del voltaje en esas posiciones,\n",
    "sino los tiempos en esas posiciones:"
   ]
  },
  {
   "cell_type": "code",
   "execution_count": 28,
   "metadata": {
    "colab": {
     "base_uri": "https://localhost:8080/"
    },
    "id": "mVzT4BuibpV6",
    "outputId": "3870e1fa-e7a1-4439-a284-89dd7f8202b1"
   },
   "outputs": [
    {
     "data": {
      "text/plain": [
       "array([ 0.715,  0.845,  1.57 ,  1.7  ,  2.5  ,  2.63 ,  3.355,  3.485,\n",
       "        4.285,  4.415,  5.135,  5.27 ,  6.065,  6.195,  6.92 ,  7.05 ,\n",
       "        7.85 ,  7.98 ,  8.705,  8.835,  9.63 ,  9.765, 10.485, 10.62 ,\n",
       "       11.415, 11.545, 12.27 , 12.4  , 13.2  , 13.33 , 14.05 , 14.185,\n",
       "       14.98 , 15.115, 15.835, 15.97 , 16.765, 16.9  , 17.615, 17.75 ,\n",
       "       18.545, 18.68 , 19.4  , 19.535, 20.33 , 20.465, 21.185, 21.32 ,\n",
       "       22.115, 22.25 , 22.965, 23.1  , 23.895, 24.03 , 24.75 , 24.885])"
      ]
     },
     "execution_count": 28,
     "metadata": {},
     "output_type": "execute_result"
    }
   ],
   "source": [
    "tiempo_saltos = t[pos]\n",
    "Voltaje_saltos= v[pos]\n",
    "\n",
    "tiempo_saltos"
   ]
  },
  {
   "cell_type": "markdown",
   "metadata": {
    "id": "9p5KBF2MguUK"
   },
   "source": [
    "# Para ver que valores encontramos y entender un poco mejor el dato\n"
   ]
  },
  {
   "cell_type": "code",
   "execution_count": 30,
   "metadata": {
    "colab": {
     "base_uri": "https://localhost:8080/",
     "height": 252
    },
    "id": "itE-RJjhgo5Z",
    "outputId": "2d47fd87-8872-43cb-e13d-5fc32ec96c87"
   },
   "outputs": [
    {
     "data": {
      "text/plain": [
       "[<matplotlib.lines.Line2D at 0x7b07c7511870>]"
      ]
     },
     "execution_count": 30,
     "metadata": {},
     "output_type": "execute_result"
    },
    {
     "data": {
      "image/png": "[encoded data removed]",
      "text/plain": [
       "<Figure size 600x200 with 1 Axes>"
      ]
     },
     "metadata": {},
     "output_type": "display_data"
    }
   ],
   "source": [
    "plt.figure(figsize=(6, 2))\n",
    "plt.xlabel(\"Tiempo [s]\")\n",
    "plt.ylabel(\"Voltaje [V]\")\n",
    "plt.plot(t, v, marker=\".\", linestyle=\"--\")\n",
    "plt.plot(tiempo_saltos, Voltaje_saltos, \"o\")"
   ]
  },
  {
   "cell_type": "markdown",
   "metadata": {
    "id": "oWoPlMeTh5OE"
   },
   "source": [
    "Igual que antes, hagamos zoom para ver mejor"
   ]
  },
  {
   "cell_type": "code",
   "execution_count": 31,
   "metadata": {
    "colab": {
     "base_uri": "https://localhost:8080/",
     "height": 252
    },
    "id": "wZju9qEfh33z",
    "outputId": "b0c68a77-23ee-4310-a9b8-c5dcc66f4979"
   },
   "outputs": [
    {
     "data": {
      "text/plain": [
       "(0.12, 0.18)"
      ]
     },
     "execution_count": 31,
     "metadata": {},
     "output_type": "execute_result"
    },
    {
     "data": {
      "image/png": "[encoded data removed]",
      "text/plain": [
       "<Figure size 600x200 with 1 Axes>"
      ]
     },
     "metadata": {},
     "output_type": "display_data"
    }
   ],
   "source": [
    "plt.figure(figsize=(6, 2))\n",
    "plt.xlabel(\"Tiempo [s]\")\n",
    "plt.ylabel(\"Voltaje [V]\")\n",
    "plt.plot(t, v, marker=\".\", linestyle=\"--\")\n",
    "plt.plot(tiempo_saltos, Voltaje_saltos, \"o\")\n",
    "plt.xlim(0.12, 0.18)"
   ]
  },
  {
   "cell_type": "markdown",
   "metadata": {
    "id": "8p7xuoROiEVQ"
   },
   "source": [
    "¿Qué sucede? ¿Cómo encontramos el periodo?"
   ]
  },
  {
   "cell_type": "markdown",
   "metadata": {
    "id": "v0Lnw0UBbpV7"
   },
   "source": [
    "## Encontrar periodos"
   ]
  },
  {
   "cell_type": "markdown",
   "metadata": {
    "id": "QGBZrIufbpV-"
   },
   "source": [
    "Finalmente,\n",
    "si nos interesa encontrar periodos,\n",
    "podemos calcular las diferencias entre los tiempos correspondientes.\n",
    "Esto dependerá del experimento.\n",
    "\n",
    "Por ejemplo,\n",
    "si necesitamos obtener 1 de cada 4 tiempos,\n",
    "podemos tomar una \"rebanada\" (*slice*) del array con la siguiente expresion:"
   ]
  },
  {
   "cell_type": "code",
   "execution_count": 32,
   "metadata": {
    "colab": {
     "base_uri": "https://localhost:8080/"
    },
    "id": "CQL7_AQcbpV-",
    "outputId": "d92eccd0-1351-47aa-a29f-0af372dadd87"
   },
   "outputs": [
    {
     "data": {
      "text/plain": [
       "array([ 0.715,  2.5  ,  4.285,  6.065,  7.85 ,  9.63 , 11.415, 13.2  ,\n",
       "       14.98 , 16.765, 18.545, 20.33 , 22.115, 23.895])"
      ]
     },
     "execution_count": 32,
     "metadata": {},
     "output_type": "execute_result"
    }
   ],
   "source": [
    "tiempo_saltos[::4]"
   ]
  },
  {
   "cell_type": "markdown",
   "metadata": {
    "id": "rqNRoSa-bpV-"
   },
   "source": [
    "En general,\n",
    "la notación es `array[desde:hasta:paso]`.\n",
    "Si omitimos uno,\n",
    "por defecto son:\n",
    "\n",
    "- `desde`: 0\n",
    "- `hasta`: hasta el final\n",
    "- `paso`: 1\n",
    "\n",
    "Por ejemplo:\n",
    "\n",
    "- `array[2:8:3]`\n",
    "- `array[:5]`: hasta el 5to elemento.\n",
    "- `array[10::3]`: desde el 10mo elemento cada 3.\n",
    "- etc."
   ]
  },
  {
   "cell_type": "markdown",
   "metadata": {
    "id": "vKYTNtWbbpV_"
   },
   "source": [
    "Luego,\n",
    "podriamos calcular la diferencia entre valores consecutivos con:"
   ]
  },
  {
   "cell_type": "code",
   "execution_count": 33,
   "metadata": {
    "colab": {
     "base_uri": "https://localhost:8080/"
    },
    "id": "a0m7okBybpV_",
    "outputId": "13d7f3a5-52ee-4c1f-c8a1-8a36e8fa9e53"
   },
   "outputs": [
    {
     "data": {
      "text/plain": [
       "array([1.785, 1.785, 1.78 , 1.785, 1.78 , 1.785, 1.785, 1.78 , 1.785,\n",
       "       1.78 , 1.785, 1.785, 1.78 ])"
      ]
     },
     "execution_count": 33,
     "metadata": {},
     "output_type": "execute_result"
    }
   ],
   "source": [
    "np.diff(tiempo_saltos[::4])"
   ]
  },
  {
   "cell_type": "markdown",
   "metadata": {
    "id": "wVc9HIb2bpV_"
   },
   "source": [
    "## Más periodos"
   ]
  },
  {
   "cell_type": "markdown",
   "metadata": {
    "id": "R3G0A18ubpV_"
   },
   "source": [
    "Para aprovechar todos los datos,\n",
    "también pueden calcular los periodos cada 4,\n",
    "pero empezando de la segunda medicion (indice 1):"
   ]
  },
  {
   "cell_type": "code",
   "execution_count": 34,
   "metadata": {
    "colab": {
     "base_uri": "https://localhost:8080/"
    },
    "id": "_l3NnzdEbpV_",
    "outputId": "5cf8a7bc-e5a1-4786-a9e0-c029f28526ba"
   },
   "outputs": [
    {
     "data": {
      "text/plain": [
       "array([1.785, 1.785, 1.78 , 1.785, 1.785, 1.78 , 1.785, 1.785, 1.785,\n",
       "       1.78 , 1.785, 1.785, 1.78 ])"
      ]
     },
     "execution_count": 34,
     "metadata": {},
     "output_type": "execute_result"
    }
   ],
   "source": [
    "np.diff(tiempo_saltos[1::4])"
   ]
  },
  {
   "cell_type": "markdown",
   "metadata": {
    "id": "x7cyLaDDbpWA"
   },
   "source": [
    "Y desde la tercera y cuarta medicion.\n",
    "\n",
    "Pueden hacer todo esto en un paso con la siguiente expresion:"
   ]
  },
  {
   "cell_type": "code",
   "execution_count": 35,
   "metadata": {
    "colab": {
     "base_uri": "https://localhost:8080/"
    },
    "id": "wOQjomVjbpWB",
    "outputId": "05704664-3580-4d3f-c34c-ecc52d4a1505"
   },
   "outputs": [
    {
     "name": "stdout",
     "output_type": "stream",
     "text": [
      "MEDIA: 1.7832692307692306\n",
      "DESVIO: 0.0023787147840099157\n"
     ]
    }
   ],
   "source": [
    "tiempo_saltos[4:] - tiempo_saltos[:-4]\n",
    "\n",
    "print('MEDIA:', np.mean(tiempo_saltos[4:] - tiempo_saltos[:-4]))\n",
    "print('DESVIO:', np.std(tiempo_saltos[4:] - tiempo_saltos[:-4]))"
   ]
  },
  {
   "cell_type": "markdown",
   "metadata": {
    "id": "wDftLIlYiXd6"
   },
   "source": [
    "# Calculo del periodo\n",
    "Una vez que tienen un arrange con todos los periodos. ¿Cón que valor se quedan?\n",
    "\n",
    "Para eso volvemos a la primer clase (mediciones directas) y calculamos el periodo medio y su incerteza.\n",
    "\n",
    "Les queda de ejercicio"
   ]
  },
  {
   "cell_type": "markdown",
   "metadata": {
    "id": "WGUvo6VuiXsu"
   },
   "source": [
    "Código original: https://maurosilber.github.io/python-tutorial/laboratorio/photogate/paso_a_paso.html\n",
    "adaptado por Verónica Pérez Schuster, JTP laboratorio F1 (Q) para la cursada verano 2024"
   ]
  },
  {
   "cell_type": "markdown",
   "metadata": {},
   "source": [
    "### Juntamos todo en un for para cada LONG, osea de data 1 a 10 "
   ]
  },
  {
   "cell_type": "code",
   "execution_count": 37,
   "metadata": {
    "colab": {
     "base_uri": "https://localhost:8080/"
    },
    "id": "I83AaSHePjcW",
    "outputId": "2962da65-0363-459f-875e-2d10b99ac931"
   },
   "outputs": [
    {
     "name": "stdout",
     "output_type": "stream",
     "text": [
      "LONG:  78.5\n",
      "MEDIA: 1.7832692307692306\n",
      "DESVIO: 0.0023787147840099157\n",
      "LONG:  68.5\n",
      "MEDIA: 1.65625\n",
      "DESVIO: 0.0021650635094610576\n",
      "LONG:  84.0\n",
      "MEDIA: 1.8640999999999999\n",
      "DESVIO: 0.0019209372712298525\n",
      "LONG:  54.5\n",
      "MEDIA: 1.4782539682539682\n",
      "DESVIO: 0.0023835964155050496\n",
      "LONG:  70.8\n",
      "MEDIA: 1.6894642857142856\n",
      "DESVIO: 0.0015464739353290777\n",
      "LONG:  30.0\n",
      "MEDIA: 1.0973837209302322\n",
      "DESVIO: 0.003118469379512403\n",
      "LONG:  51.2\n",
      "MEDIA: 1.4450000000000003\n",
      "DESVIO: 0.0012403473458921684\n",
      "LONG:  61.0\n",
      "MEDIA: 1.5795833333333331\n",
      "DESVIO: 0.0016562172428626453\n",
      "LONG:  40.0\n",
      "MEDIA: 1.2766216216216215\n",
      "DESVIO: 0.0024807513176602295\n",
      "LONG:  21.0\n",
      "MEDIA: 0.9354807692307692\n",
      "DESVIO: 0.0038927466307686347\n"
     ]
    }
   ],
   "source": [
    "url = 'https://raw.githubusercontent.com/KenetC/myt_verano24/main/DatosTaller2/datos'\n",
    "for i in range(1,11): \n",
    "    URL = url+str(i)\n",
    "    df = pd.read_csv(\n",
    "      URL,  # el primer archivo,\n",
    "      skiprows=3,  # que ignore las primeras 3 filas\n",
    "      delimiter=\"\\t\",  # separador Tab\n",
    "      decimal=\",\",  # coma decimal\n",
    "      )\n",
    "    data = df.values\n",
    "    #Long \n",
    "    L = data[0,0] \n",
    "    # datos de la long L\n",
    "    D = data[1:]\n",
    "    t = D[:, 0]  # tiempo [s]\n",
    "    v = D[:, 1]\n",
    "    dif_de_v = np.diff(v)\n",
    "    pos = np.nonzero(np.abs(dif_de_v) > 2.5)\n",
    "    tiempo_saltos = t[pos]\n",
    "    Voltaje_saltos= v[pos]\n",
    "    print('LONG: ', L)\n",
    "    print('MEDIA:', np.mean(tiempo_saltos[4:] - tiempo_saltos[:-4]))\n",
    "    print('DESVIO:', np.std(tiempo_saltos[4:] - tiempo_saltos[:-4]))"
   ]
  }
 ],
 "metadata": {
  "colab": {
   "provenance": []
  },
  "kernelspec": {
   "display_name": "Python 3 (ipykernel)",
   "language": "python",
   "name": "python3"
  },
  "language_info": {
   "codemirror_mode": {
    "name": "ipython",
    "version": 3
   },
   "file_extension": ".py",
   "mimetype": "text/x-python",
   "name": "python",
   "nbconvert_exporter": "python",
   "pygments_lexer": "ipython3",
   "version": "3.10.13"
  }
 },
 "nbformat": 4,
 "nbformat_minor": 4
}
